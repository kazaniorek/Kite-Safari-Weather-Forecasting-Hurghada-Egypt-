{
 "cells": [
  {
   "cell_type": "markdown",
   "id": "8eeb3a09",
   "metadata": {},
   "source": [
    "# Kite Safari Weather Forecasting (Hurghada, Egypt)"
   ]
  },
  {
   "cell_type": "code",
   "execution_count": null,
   "id": "db527b4c",
   "metadata": {},
   "outputs": [],
   "source": [
    "import pandas as pd\n",
    "from prophet import Prophet\n",
    "import matplotlib.pyplot as plt\n"
   ]
  },
  {
   "cell_type": "markdown",
   "id": "d03f095d",
   "metadata": {},
   "source": [
    "## Load the weather data"
   ]
  },
  {
   "cell_type": "code",
   "execution_count": null,
   "id": "14dfdf60",
   "metadata": {},
   "outputs": [],
   "source": [
    "weather_data = pd.read_csv('hurghada_weather_cleaned.csv')\n"
   ]
  },
  {
   "cell_type": "markdown",
   "id": "fd6c471a",
   "metadata": {},
   "source": [
    "## Prepare datasets for forecasting"
   ]
  },
  {
   "cell_type": "code",
   "execution_count": null,
   "id": "9432ffb2",
   "metadata": {},
   "outputs": [],
   "source": [
    "# Wind Speed\n",
    "weather_forecast_speed = weather_data[['date', 'wspd']].dropna().copy()\n",
    "weather_forecast_speed.rename(columns={'date': 'ds', 'wspd': 'y'}, inplace=True)\n",
    "weather_forecast_speed['ds'] = pd.to_datetime(weather_forecast_speed['ds'])\n",
    "\n",
    "# Wind Direction\n",
    "weather_forecast_direction = weather_data[['date', 'wdir']].dropna().copy()\n",
    "weather_forecast_direction.rename(columns={'date': 'ds', 'wdir': 'y'}, inplace=True)\n",
    "weather_forecast_direction['ds'] = pd.to_datetime(weather_forecast_direction['ds'])\n"
   ]
  },
  {
   "cell_type": "markdown",
   "id": "6805453f",
   "metadata": {},
   "source": [
    "## Train Prophet models"
   ]
  },
  {
   "cell_type": "code",
   "execution_count": null,
   "id": "66e7e170",
   "metadata": {},
   "outputs": [],
   "source": [
    "# Wind Speed Model\n",
    "model_speed = Prophet()\n",
    "model_speed.fit(weather_forecast_speed)\n",
    "\n",
    "# Wind Direction Model\n",
    "model_direction = Prophet()\n",
    "model_direction.fit(weather_forecast_direction)\n"
   ]
  },
  {
   "cell_type": "markdown",
   "id": "bc0dc9e7",
   "metadata": {},
   "source": [
    "## Forecast next 7 days"
   ]
  },
  {
   "cell_type": "code",
   "execution_count": null,
   "id": "5867e681",
   "metadata": {},
   "outputs": [],
   "source": [
    "# Future dataframes\n",
    "future_speed = model_speed.make_future_dataframe(periods=7)\n",
    "future_direction = model_direction.make_future_dataframe(periods=7)\n",
    "\n",
    "# Predict\n",
    "forecast_speed = model_speed.predict(future_speed)\n",
    "forecast_direction = model_direction.predict(future_direction)\n",
    "\n",
    "# Correct Wind Direction to 0-360 degrees\n",
    "forecast_direction['yhat'] = forecast_direction['yhat'] % 360\n",
    "forecast_direction['yhat_lower'] = forecast_direction['yhat_lower'] % 360\n",
    "forecast_direction['yhat_upper'] = forecast_direction['yhat_upper'] % 360\n"
   ]
  },
  {
   "cell_type": "markdown",
   "id": "819652b2",
   "metadata": {},
   "source": [
    "## Visualize the forecasts"
   ]
  },
  {
   "cell_type": "code",
   "execution_count": null,
   "id": "5c5662ca",
   "metadata": {},
   "outputs": [],
   "source": [
    "# Wind Speed Plot\n",
    "fig1 = model_speed.plot(forecast_speed)\n",
    "plt.title('Wind Speed Forecast (Hurghada) [knots]', fontsize=14)\n",
    "plt.xlabel('Date')\n",
    "plt.ylabel('Wind Speed (knots)')\n",
    "plt.grid(True)\n",
    "plt.show()\n",
    "\n",
    "# Wind Direction Plot\n",
    "fig2 = model_direction.plot(forecast_direction)\n",
    "plt.title('Wind Direction Forecast (Hurghada) [degrees]', fontsize=14)\n",
    "plt.xlabel('Date')\n",
    "plt.ylabel('Wind Direction (degrees)')\n",
    "plt.grid(True)\n",
    "plt.show()\n"
   ]
  },
  {
   "cell_type": "markdown",
   "id": "041f272b",
   "metadata": {},
   "source": [
    "## Display forecasted values"
   ]
  },
  {
   "cell_type": "code",
   "execution_count": null,
   "id": "f3cb42f3",
   "metadata": {},
   "outputs": [],
   "source": [
    "# Last 10 forecasts for Wind Speed\n",
    "print(\"Wind Speed Forecast (next days) [knots]:\")\n",
    "print(forecast_speed[['ds', 'yhat', 'yhat_lower', 'yhat_upper']].tail(10))\n",
    "\n",
    "# Last 10 forecasts for Wind Direction\n",
    "print(\"\\nWind Direction Forecast (next days) [degrees]:\")\n",
    "print(forecast_direction[['ds', 'yhat', 'yhat_lower', 'yhat_upper']].tail(10))\n"
   ]
  }
 ],
 "metadata": {},
 "nbformat": 4,
 "nbformat_minor": 5
}
